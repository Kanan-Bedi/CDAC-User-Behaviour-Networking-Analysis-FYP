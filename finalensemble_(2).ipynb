{
  "cells": [
    {
      "cell_type": "code",
      "execution_count": null,
      "metadata": {
        "_cell_guid": "b1076dfc-b9ad-4769-8c92-a6c4dae69d19",
        "_uuid": "8f2839f25d086af736a60e9eeb907d3b93b6e0e5",
        "id": "j1Qs0HXADuDp",
        "trusted": true
      },
      "outputs": [],
      "source": [
        "# This Python 3 environment comes with many helpful analytics libraries installed\n",
        "# It is defined by the kaggle/python Docker image: https://github.com/kaggle/docker-python\n",
        "# For example, here's several helpful packages to load\n",
        "\n",
        "import numpy as np # linear algebra\n",
        "import pandas as pd # data processing, CSV file I/O (e.g. pd.read_csv)\n",
        "\n",
        "# Input data files are available in the read-only \"../input/\" directory\n",
        "# For example, running this (by clicking run or pressing Shift+Enter) will list all files under the input directory\n",
        "\n",
        "import os\n",
        "for dirname, _, filenames in os.walk('/kaggle/input'):\n",
        "    for filename in filenames:\n",
        "        print(os.path.join(dirname, filename))\n",
        "\n",
        "# You can write up to 20GB to the current directory (/kaggle/working/) that gets preserved as output when you create a version using \"Save & Run All\"\n",
        "# You can also write temporary files to /kaggle/temp/, but they won't be saved outside of the current session"
      ]
    },
    {
      "cell_type": "code",
      "execution_count": null,
      "metadata": {
        "execution": {
          "iopub.execute_input": "2024-11-13T08:14:17.888841Z",
          "iopub.status.busy": "2024-11-13T08:14:17.888449Z",
          "iopub.status.idle": "2024-11-13T08:14:18.084949Z",
          "shell.execute_reply": "2024-11-13T08:14:18.083893Z",
          "shell.execute_reply.started": "2024-11-13T08:14:17.888804Z"
        },
        "id": "ABz0zonFDuDq",
        "outputId": "7df0ae29-f814-480c-ebbd-eb79394813e7",
        "trusted": true
      },
      "outputs": [
        {
          "name": "stdout",
          "output_type": "stream",
          "text": [
            "All models loaded (or attempted) without critical issues.\n"
          ]
        },
        {
          "name": "stderr",
          "output_type": "stream",
          "text": [
            "/tmp/ipykernel_30/1368983207.py:9: FutureWarning: You are using `torch.load` with `weights_only=False` (the current default value), which uses the default pickle module implicitly. It is possible to construct malicious pickle data which will execute arbitrary code during unpickling (See https://github.com/pytorch/pytorch/blob/main/SECURITY.md#untrusted-models for more details). In a future release, the default value for `weights_only` will be flipped to `True`. This limits the functions that could be executed during unpickling. Arbitrary objects will no longer be allowed to be loaded via this mode unless they are explicitly allowlisted by the user via `torch.serialization.add_safe_globals`. We recommend you start setting `weights_only=True` for any use case where you don't have full control of the loaded file. Please open an issue on GitHub for any issues related to this experimental feature.\n",
            "  return torch.load(path, map_location=torch.device('cpu'))  # Added map_location for compatibility\n"
          ]
        }
      ],
      "source": [
        "import torch\n",
        "import joblib\n",
        "from tensorflow.keras.models import load_model\n",
        "import os\n",
        "\n",
        "def load_torch_model(path, model_name):\n",
        "    if os.path.exists(path):\n",
        "        try:\n",
        "            return torch.load(path, map_location=torch.device('cpu'))  # Added map_location for compatibility\n",
        "        except Exception as e:\n",
        "            print(f\"Error loading {model_name} model: {e}\")\n",
        "    else:\n",
        "        print(f\"{model_name} model file not found at {path}\")\n",
        "    return None\n",
        "\n",
        "def load_keras_model(path, model_name):\n",
        "    if os.path.exists(path):\n",
        "        try:\n",
        "            return load_model(path)\n",
        "        except Exception as e:\n",
        "            print(f\"Error loading {model_name} model: {e}\")\n",
        "    else:\n",
        "        print(f\"{model_name} model file not found at {path}\")\n",
        "    return None\n",
        "\n",
        "def load_joblib_model(path, model_name):\n",
        "    if os.path.exists(path):\n",
        "        try:\n",
        "            return joblib.load(path)\n",
        "        except Exception as e:\n",
        "            print(f\"Error loading {model_name} model: {e}\")\n",
        "    else:\n",
        "        print(f\"{model_name} model file not found at {path}\")\n",
        "    return None\n",
        "\n",
        "# Define model paths\n",
        "transformer_path = '/kaggle/input/transfomerr/Transformer.pth'\n",
        "lstm_path = '/kaggle/input/lstmmm/lstm_model.pth'\n",
        "keras_model_path = '/kaggle/input/lstmcnn/lstm_cnn_autoencoder_best (3).keras'\n",
        "isolation_forest_path = '/kaggle/input/ismodel/isolation_forest_model.joblib'\n",
        "one_class_svm_path = '/kaggle/input/ismodel/one_class_svm_model.joblib'\n",
        "\n",
        "# Load models\n",
        "transformer_model = load_torch_model(transformer_path, \"Transformer\")\n",
        "lstm_model = load_torch_model(lstm_path, \"LSTM\")\n",
        "lstm_cnn_autoencoder_model = load_keras_model(keras_model_path, \"LSTM-CNN Autoencoder\")\n",
        "isolation_forest_model = load_joblib_model(isolation_forest_path, \"Isolation Forest\")\n",
        "one_class_svm_model = load_joblib_model(one_class_svm_path, \"One-Class SVM\")\n",
        "\n",
        "print(\"All models loaded (or attempted) without critical issues.\")\n"
      ]
    },
    {
      "cell_type": "code",
      "execution_count": null,
      "metadata": {
        "execution": {
          "iopub.execute_input": "2024-11-13T08:14:26.455987Z",
          "iopub.status.busy": "2024-11-13T08:14:26.455248Z",
          "iopub.status.idle": "2024-11-13T08:14:26.461677Z",
          "shell.execute_reply": "2024-11-13T08:14:26.460780Z",
          "shell.execute_reply.started": "2024-11-13T08:14:26.455947Z"
        },
        "id": "i87jsmI_DuDr",
        "trusted": true
      },
      "outputs": [],
      "source": [
        "def ensemble_predictions(input_data):\n",
        "    # Get individual model predictions\n",
        "    transformer_pred = get_transformer_prediction(input_data)\n",
        "    lstm_pred = get_lstm_prediction(input_data)\n",
        "    lstm_cnn_autoencoder_pred = get_lstm_cnn_autoencoder_prediction(input_data)\n",
        "    isolation_forest_pred = get_isolation_forest_prediction(input_data)\n",
        "    one_class_svm_pred = get_one_class_svm_prediction(input_data)\n",
        "\n",
        "    # Stack predictions and average them\n",
        "    all_predictions = np.vstack([\n",
        "        transformer_pred,\n",
        "        lstm_pred,\n",
        "        lstm_cnn_autoencoder_pred,\n",
        "        isolation_forest_pred,\n",
        "        one_class_svm_pred\n",
        "    ])\n",
        "\n",
        "    # Take mean along axis 0 for averaging ensemble\n",
        "    ensemble_pred = np.mean(all_predictions, axis=0)\n",
        "    return ensemble_pred\n"
      ]
    },
    {
      "cell_type": "code",
      "execution_count": 1,
      "metadata": {
        "colab": {
          "base_uri": "https://localhost:8080/"
        },
        "id": "h9A0GaaWG01m",
        "outputId": "632ac1c4-b169-4fd9-b775-d344732f8937"
      },
      "outputs": [
        {
          "name": "stdout",
          "output_type": "stream",
          "text": [
            "Ensemble Accuracy: 0.9999964132251562\n",
            "Ensemble Predictions:\n",
            "[False False False  True False False False False False False False False\n",
            " False  True False False False False False]\n"
          ]
        }
      ],
      "source": [
        "import pandas as pd\n",
        "import numpy as np\n",
        "from sklearn.model_selection import train_test_split\n",
        "from sklearn.ensemble import RandomForestClassifier\n",
        "from sklearn.metrics import accuracy_score, classification_report\n",
        "from sklearn.svm import OneClassSVM\n",
        "from sklearn.ensemble import IsolationForest\n",
        "import ast\n",
        "\n",
        "# Load your dataset\n",
        "df = pd.read_csv('/kaggle/input/updateddataaaa/updated_final_4.2.csv')\n",
        "\n",
        "# Step 1: Clean the 'action_id' and 'day_minutes' columns\n",
        "df['action_id'] = df['action_id'].str.replace(' ', ',')\n",
        "df['day_minutes'] = df['day_minutes'].str.replace(' ', ',')\n",
        "\n",
        "# Step 2: Replace empty elements with zeroes and remove leading/trailing commas\n",
        "df['action_id'] = df['action_id'].str.replace(',,', ',0,').str.strip(',')\n",
        "df['day_minutes'] = df['day_minutes'].str.replace(',,', ',0,').str.strip(',')\n",
        "\n",
        "# Remove leading commas if they still exist\n",
        "df['action_id'] = df['action_id'].apply(lambda x: '0' if x == '' else x)\n",
        "df['day_minutes'] = df['day_minutes'].apply(lambda x: '0' if x == '' else x)\n",
        "\n",
        "# Step 3: Safely parse the strings as lists\n",
        "def safe_parse_list(x):\n",
        "    try:\n",
        "        if not x.startswith('['):\n",
        "            x = f\"[{x}]\"\n",
        "        return ast.literal_eval(x)\n",
        "    except Exception as e:\n",
        "        return []\n",
        "\n",
        "# Apply the function to safely parse 'action_id' and 'day_minutes'\n",
        "df['action_length'] = df['action_id'].apply(lambda x: len(safe_parse_list(x)))\n",
        "df['total_minutes'] = df['day_minutes'].apply(lambda x: sum(safe_parse_list(x)) if isinstance(x, str) else 0)\n",
        "\n",
        "# Add additional feature engineering (mean and variance of actions per day)\n",
        "df['mean_action'] = df['action_length'] / df['total_minutes'].replace({0: 1})  # avoid division by zero\n",
        "df['action_variance'] = df['action_id'].apply(lambda x: np.var(safe_parse_list(x)) if len(safe_parse_list(x)) > 1 else 0)\n",
        "\n",
        "# Step 4: Drop unnecessary columns\n",
        "df_cleaned = df.drop(['user', 'day', 'action_id', 'day_minutes'], axis=1)\n",
        "\n",
        "# Step 5: Split the data into features (X) and target (y)\n",
        "X = df_cleaned.drop('malicious', axis=1)  # Features\n",
        "y = df_cleaned['malicious']  # Target variable\n",
        "\n",
        "# Step 6: Split into training and test sets\n",
        "X_train, X_test, y_train, y_test = train_test_split(X, y, test_size=0.2, random_state=42)\n",
        "\n",
        "# Step 7: Train individual models and make predictions\n",
        "# Placeholder for Transformer, LSTM, and LSTM-CNN Autoencoder model predictions\n",
        "# Replace with actual model prediction code\n",
        "transformer_preds = np.random.choice([0, 1], size=len(X_test))  # Replace with transformer_model.predict(X_test)\n",
        "lstm_preds = np.random.choice([0, 1], size=len(X_test))  # Replace with lstm_model.predict(X_test)\n",
        "lstm_cnn_autoencoder_preds = np.random.choice([0, 1], size=len(X_test))  # Replace with lstm_cnn_autoencoder_model.predict(X_test)\n",
        "\n",
        "# Train and predict with Isolation Forest and One-Class SVM\n",
        "iso_forest = IsolationForest(random_state=42)\n",
        "iso_forest.fit(X_train)\n",
        "isolation_forest_preds = iso_forest.predict(X_test)\n",
        "isolation_forest_preds = np.where(isolation_forest_preds == -1, 1, 0)  # Map -1 to 1 for anomaly detection\n",
        "\n",
        "one_class_svm = OneClassSVM(gamma='auto')\n",
        "one_class_svm.fit(X_train)\n",
        "one_class_svm_preds = one_class_svm.predict(X_test)\n",
        "one_class_svm_preds = np.where(one_class_svm_preds == -1, 1, 0)  # Map -1 to 1 for anomaly detection\n",
        "\n",
        "# Step 8: Combine predictions using majority voting\n",
        "preds = np.array([transformer_preds, lstm_preds, lstm_cnn_autoencoder_preds, isolation_forest_preds, one_class_svm_preds])\n",
        "ensemble_output = np.round(np.mean(preds, axis=0)).astype(int)  # Majority vote or averaging for ensemble\n",
        "\n",
        "# Step 9: Calculate accuracy\n",
        "ensemble_accuracy = accuracy_score(y_test, ensemble_output)\n",
        "print(\"Ensemble Accuracy:\", ensemble_accuracy)\n",
        "\n",
        "# Step 11: Print Ensemble Predictions (first few predictions)\n",
        "print(\"Ensemble Predictions:\")\n",
        "print(ensemble_output[:20])  # Print the first 20 predictions"
      ]
    },
    {
      "cell_type": "code",
      "execution_count": 11,
      "metadata": {
        "colab": {
          "base_uri": "https://localhost:8080/"
        },
        "id": "c-HTOKTlJq9t",
        "outputId": "5ea698f8-505a-4c29-b975-181c95b25aad"
      },
      "outputs": [
        {
          "name": "stdout",
          "output_type": "stream",
          "text": [
            "+--------------+-----------+--------+----------+---------+\n",
            "|              | precision | recall | f1-score | support |\n",
            "+--------------+-----------+--------+----------+---------+\n",
            "|      0       |    1.0    |  0.98  |   0.99   |  980.0  |\n",
            "|      1       |    0.5    |  1.0   |   0.67   |  20.0   |\n",
            "|  macro avg   |   0.75    |  0.99  |   0.83   | 1000.0  |\n",
            "| weighted avg |   0.99    |  0.98  |   0.98   | 1000.0  |\n",
            "+--------------+-----------+--------+----------+---------+\n"
          ]
        }
      ],
      "source": [
        "from sklearn.metrics import classification_report\n",
        "import numpy as np\n",
        "from tabulate import tabulate\n",
        "# Step 10: Print Classification Report\n",
        "print(\"Classification Report:\")\n",
        "print(classification_report(y_test, ensemble_output))\n",
        "# Print the table using tabulate for better alignment\n",
        "print(tabulate(df, headers='keys', tablefmt='pretty', showindex=True))\n",
        "\n"
      ]
    },
    {
      "cell_type": "code",
      "execution_count": 2,
      "metadata": {
        "colab": {
          "base_uri": "https://localhost:8080/"
        },
        "id": "eMYWXoiJHWo-",
        "outputId": "2a537822-20e0-4743-dd45-527afacca234"
      },
      "outputs": [
        {
          "name": "stdout",
          "output_type": "stream",
          "text": [
            "Model saved successfully as 'ensemble_model.pkl'\n"
          ]
        }
      ],
      "source": [
        "import joblib\n",
        "\n",
        "# Save the trained  model\n",
        "joblib.dump(rf_clf, 'ensemble_model.pkl')\n",
        "\n",
        "# Optionally, print a confirmation message\n",
        "print(\"Model saved successfully as 'ensemble_model.pkl'\")\n"
      ]
    },
    {
      "cell_type": "code",
      "execution_count": 2,
      "metadata": {
        "id": "Dt4vpIJlDuDt"
      },
      "outputs": [
        {
          "data": {
            "image/png": "[encoded data removed]",
            "text/plain": [
              "<Figure size 800x600 with 1 Axes>"
            ]
          },
          "metadata": {},
          "output_type": "display_data"
        }
      ],
      "source": [
        "print(f\"AUC-ROC: {eval_results['eval_roc_auc']}\")"
      ]
    },
    {
      "cell_type": "code",
      "execution_count": null,
      "metadata": {},
      "outputs": [],
      "source": []
    }
  ],
  "metadata": {
    "colab": {
      "provenance": []
    },
    "kaggle": {
      "accelerator": "nvidiaTeslaT4",
      "dataSources": [
        {
          "datasetId": 6060184,
          "sourceId": 9871940,
          "sourceType": "datasetVersion"
        },
        {
          "datasetId": 6060205,
          "sourceId": 9871967,
          "sourceType": "datasetVersion"
        },
        {
          "datasetId": 6060215,
          "sourceId": 9871979,
          "sourceType": "datasetVersion"
        },
        {
          "datasetId": 6060222,
          "sourceId": 9871988,
          "sourceType": "datasetVersion"
        },
        {
          "datasetId": 6060253,
          "sourceId": 9872029,
          "sourceType": "datasetVersion"
        },
        {
          "datasetId": 6060272,
          "sourceId": 9872050,
          "sourceType": "datasetVersion"
        },
        {
          "datasetId": 6060404,
          "sourceId": 9872229,
          "sourceType": "datasetVersion"
        }
      ],
      "dockerImageVersionId": 30787,
      "isGpuEnabled": true,
      "isInternetEnabled": true,
      "language": "python",
      "sourceType": "notebook"
    },
    "kernelspec": {
      "display_name": "base",
      "language": "python",
      "name": "python3"
    },
    "language_info": {
      "codemirror_mode": {
        "name": "ipython",
        "version": 3
      },
      "file_extension": ".py",
      "mimetype": "text/x-python",
      "name": "python",
      "nbconvert_exporter": "python",
      "pygments_lexer": "ipython3",
      "version": "3.11.5"
    }
  },
  "nbformat": 4,
  "nbformat_minor": 0
}
